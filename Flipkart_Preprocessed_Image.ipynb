{
  "nbformat": 4,
  "nbformat_minor": 0,
  "metadata": {
    "colab": {
      "provenance": [],
      "mount_file_id": "11l0j95ZcmYknJiWJO5CvfWM9LYS0FY5k",
      "authorship_tag": "ABX9TyNAZisUBQUTEIQohefjOGj4",
      "include_colab_link": true
    },
    "kernelspec": {
      "name": "python3",
      "display_name": "Python 3"
    },
    "language_info": {
      "name": "python"
    }
  },
  "cells": [
    {
      "cell_type": "markdown",
      "metadata": {
        "id": "view-in-github",
        "colab_type": "text"
      },
      "source": [
        "<a href=\"https://colab.research.google.com/github/Rishita2004/flip/blob/main/Flipkart_Preprocessed_Image.ipynb\" target=\"_parent\"><img src=\"https://colab.research.google.com/assets/colab-badge.svg\" alt=\"Open In Colab\"/></a>"
      ]
    },
    {
      "cell_type": "markdown",
      "source": [
        "### Implementation of all major steps before applying OCR technique to extract details from image\n",
        "\n",
        "\n",
        "*   Preprocessing of image (Conversion of RGB (colored image ) into GrayScale)\n",
        "*   Execution of Object Detection which helps to isolate the product in the image, making OCR more accurate\n",
        "\n",
        "\n",
        "*   Edge detection & Contour Detection\n",
        "*   Final OCR Technique\n",
        "\n",
        "\n",
        "\n"
      ],
      "metadata": {
        "id": "q8GR0mIBJN15"
      }
    },
    {
      "cell_type": "code",
      "source": [
        "import os\n",
        "image_folder_path = '/content/drive/MyDrive/images'\n",
        "processed_folder_path = '/content/drive/MyDrive/preprocessed_images'\n",
        "\n",
        "# Creating a directory to save preprocessed images\n",
        "if not os.path.exists(processed_folder_path):\n",
        "    os.makedirs(processed_folder_path)\n"
      ],
      "metadata": {
        "id": "RaFwBn6PESVu"
      },
      "execution_count": null,
      "outputs": []
    },
    {
      "cell_type": "code",
      "source": [
        "!sudo apt-get install tesseract-ocr\n",
        "!pip install pytesseract Pillow opencv-python\n"
      ],
      "metadata": {
        "colab": {
          "base_uri": "https://localhost:8080/"
        },
        "id": "rLBKnHqbEyET",
        "outputId": "f42fbca9-2471-42f0-cc5d-8688fdecdf09"
      },
      "execution_count": null,
      "outputs": [
        {
          "output_type": "stream",
          "name": "stdout",
          "text": [
            "Reading package lists... Done\n",
            "Building dependency tree... Done\n",
            "Reading state information... Done\n",
            "The following additional packages will be installed:\n",
            "  tesseract-ocr-eng tesseract-ocr-osd\n",
            "The following NEW packages will be installed:\n",
            "  tesseract-ocr tesseract-ocr-eng tesseract-ocr-osd\n",
            "0 upgraded, 3 newly installed, 0 to remove and 49 not upgraded.\n",
            "Need to get 4,816 kB of archives.\n",
            "After this operation, 15.6 MB of additional disk space will be used.\n",
            "Get:1 http://archive.ubuntu.com/ubuntu jammy/universe amd64 tesseract-ocr-eng all 1:4.00~git30-7274cfa-1.1 [1,591 kB]\n",
            "Get:2 http://archive.ubuntu.com/ubuntu jammy/universe amd64 tesseract-ocr-osd all 1:4.00~git30-7274cfa-1.1 [2,990 kB]\n",
            "Get:3 http://archive.ubuntu.com/ubuntu jammy/universe amd64 tesseract-ocr amd64 4.1.1-2.1build1 [236 kB]\n",
            "Fetched 4,816 kB in 2s (2,894 kB/s)\n",
            "debconf: unable to initialize frontend: Dialog\n",
            "debconf: (No usable dialog-like program is installed, so the dialog based frontend cannot be used. at /usr/share/perl5/Debconf/FrontEnd/Dialog.pm line 78, <> line 3.)\n",
            "debconf: falling back to frontend: Readline\n",
            "debconf: unable to initialize frontend: Readline\n",
            "debconf: (This frontend requires a controlling tty.)\n",
            "debconf: falling back to frontend: Teletype\n",
            "dpkg-preconfigure: unable to re-open stdin: \n",
            "Selecting previously unselected package tesseract-ocr-eng.\n",
            "(Reading database ... 123629 files and directories currently installed.)\n",
            "Preparing to unpack .../tesseract-ocr-eng_1%3a4.00~git30-7274cfa-1.1_all.deb ...\n",
            "Unpacking tesseract-ocr-eng (1:4.00~git30-7274cfa-1.1) ...\n",
            "Selecting previously unselected package tesseract-ocr-osd.\n",
            "Preparing to unpack .../tesseract-ocr-osd_1%3a4.00~git30-7274cfa-1.1_all.deb ...\n",
            "Unpacking tesseract-ocr-osd (1:4.00~git30-7274cfa-1.1) ...\n",
            "Selecting previously unselected package tesseract-ocr.\n",
            "Preparing to unpack .../tesseract-ocr_4.1.1-2.1build1_amd64.deb ...\n",
            "Unpacking tesseract-ocr (4.1.1-2.1build1) ...\n",
            "Setting up tesseract-ocr-eng (1:4.00~git30-7274cfa-1.1) ...\n",
            "Setting up tesseract-ocr-osd (1:4.00~git30-7274cfa-1.1) ...\n",
            "Setting up tesseract-ocr (4.1.1-2.1build1) ...\n",
            "Processing triggers for man-db (2.10.2-1) ...\n",
            "Collecting pytesseract\n",
            "  Downloading pytesseract-0.3.13-py3-none-any.whl.metadata (11 kB)\n",
            "Requirement already satisfied: Pillow in /usr/local/lib/python3.10/dist-packages (10.4.0)\n",
            "Requirement already satisfied: opencv-python in /usr/local/lib/python3.10/dist-packages (4.10.0.84)\n",
            "Requirement already satisfied: packaging>=21.3 in /usr/local/lib/python3.10/dist-packages (from pytesseract) (24.1)\n",
            "Requirement already satisfied: numpy>=1.21.2 in /usr/local/lib/python3.10/dist-packages (from opencv-python) (1.26.4)\n",
            "Downloading pytesseract-0.3.13-py3-none-any.whl (14 kB)\n",
            "Installing collected packages: pytesseract\n",
            "Successfully installed pytesseract-0.3.13\n"
          ]
        }
      ]
    },
    {
      "cell_type": "code",
      "source": [
        "import cv2\n",
        "import os\n",
        "from matplotlib import pyplot as plt\n",
        "\n",
        "def preprocess_image(image_path, save_path):\n",
        "    \"\"\"\n",
        "    Preprocess the image by converting to grayscale, removing noise, and applying thresholding,\n",
        "    then save the preprocessed image.\n",
        "    \"\"\"\n",
        "    # Loading the image using OpenCV\n",
        "    img = cv2.imread(image_path)\n",
        "\n",
        "    # Converting the image to grayscale\n",
        "    gray = cv2.cvtColor(img, cv2.COLOR_BGR2GRAY)\n",
        "\n",
        "    # Applying GaussianBlur to remove noise\n",
        "    blurred = cv2.GaussianBlur(gray, (5, 5), 0)\n",
        "\n",
        "    # Using adaptive thresholding to make the text highlighted\n",
        "    processed_img = cv2.adaptiveThreshold(blurred, 255, cv2.ADAPTIVE_THRESH_GAUSSIAN_C, cv2.THRESH_BINARY, 11, 2)\n",
        "\n",
        "    # Save the preprocessed image to the path specified\n",
        "    cv2.imwrite(save_path, processed_img)\n",
        "\n",
        "    # Display the original and processed image side by side\n",
        "    plt.figure(figsize=(10, 5))\n",
        "    plt.subplot(1, 2, 1)\n",
        "    plt.imshow(cv2.cvtColor(img, cv2.COLOR_BGR2RGB))\n",
        "    plt.title('Original Image')\n",
        "    plt.subplot(1, 2, 2)\n",
        "    plt.imshow(processed_img, cmap='gray')\n",
        "    plt.title('Preprocessed Image')\n",
        "    plt.show()\n",
        "\n",
        "    return processed_img\n"
      ],
      "metadata": {
        "id": "XjMNOp1vE0xi"
      },
      "execution_count": null,
      "outputs": []
    },
    {
      "cell_type": "code",
      "source": [
        "# Loop through all images in the raw image folder, preprocess them, and save the results\n",
        "for img_file in os.listdir(image_folder_path):\n",
        "    if img_file.endswith(('.png', '.jpg', '.jpeg')):\n",
        "        image_path = os.path.join(image_folder_path, img_file)\n",
        "        save_path = os.path.join(processed_folder_path, img_file)\n",
        "\n",
        "        preprocess_image(image_path, save_path)\n",
        "\n",
        "print(f\"Preprocessed images saved to {processed_folder_path}\")\n"
      ],
      "metadata": {
        "colab": {
          "base_uri": "https://localhost:8080/",
          "height": 1000
        },
        "id": "IJqL5ySUE8g-",
        "outputId": "20c779c3-5d05-4805-8e05-85142983e83e"
      },
      "execution_count": null,
      "outputs": []
    }
  ]
}