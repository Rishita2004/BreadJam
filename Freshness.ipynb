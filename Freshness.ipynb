{
  "nbformat": 4,
  "nbformat_minor": 0,
  "metadata": {
    "colab": {
      "provenance": [],
      "gpuType": "T4"
    },
    "kernelspec": {
      "name": "python3",
      "display_name": "Python 3"
    },
    "language_info": {
      "name": "python"
    },
    "accelerator": "GPU"
  },
  "cells": [
    {
      "cell_type": "code",
      "source": [
        "import torch # type: ignore\n",
        "import torchvision # type: ignore\n",
        "from typing import Tuple, Dict, List\n",
        "from pathlib import Path\n",
        "from zipfile import ZipFile\n",
        "from PIL import Image # type: ignore\n",
        "from torch.utils.data import Dataset # type: ignore\n",
        "from torchvision import transforms # type: ignore\n",
        "import os\n",
        "\n",
        "torch.__version__"
      ],
      "metadata": {
        "colab": {
          "base_uri": "https://localhost:8080/",
          "height": 36
        },
        "id": "2g10PMaU-MAJ",
        "outputId": "b99654bc-3ba4-488a-c7fc-44cdfc2f9d15"
      },
      "execution_count": null,
      "outputs": [
        {
          "output_type": "execute_result",
          "data": {
            "text/plain": [
              "'2.4.1+cu121'"
            ],
            "application/vnd.google.colaboratory.intrinsic+json": {
              "type": "string"
            }
          },
          "metadata": {},
          "execution_count": 69
        }
      ]
    },
    {
      "cell_type": "code",
      "source": [
        "DIR_PATH = Path(\"/content/freshvision/data\")\n",
        "IMAGE_PATH = DIR_PATH / \"spoiled-fresh\"\n",
        "\n",
        "if IMAGE_PATH.is_dir():\n",
        "    print(\"data already exist!\")\n",
        "else:\n",
        "    print(\"extracting data..\")\n",
        "    with ZipFile(file=DIR_PATH / \"spoiled-fresh.zip\", mode=\"r\") as zip_ref:\n",
        "        zip_ref.extractall(IMAGE_PATH)\n",
        "    os.remove(DIR_PATH / \"spoiled-fresh.zip\")\n",
        "    print(\"[INFO] done unzipping the file\")"
      ],
      "metadata": {
        "colab": {
          "base_uri": "https://localhost:8080/"
        },
        "id": "NfcAAL_j-Mh_",
        "outputId": "bc8f0dc0-70b7-4b72-9619-931d109a3190"
      },
      "execution_count": null,
      "outputs": [
        {
          "output_type": "stream",
          "name": "stdout",
          "text": [
            "data already exist!\n"
          ]
        }
      ]
    },
    {
      "cell_type": "code",
      "source": [
        "type(IMAGE_PATH)"
      ],
      "metadata": {
        "colab": {
          "base_uri": "https://localhost:8080/"
        },
        "id": "FOBwYL8C_IgI",
        "outputId": "b27e00b1-f112-41b4-804e-c1f3f37a7e39"
      },
      "execution_count": null,
      "outputs": [
        {
          "output_type": "execute_result",
          "data": {
            "text/plain": [
              "pathlib.PosixPath"
            ]
          },
          "metadata": {},
          "execution_count": 71
        }
      ]
    },
    {
      "cell_type": "code",
      "source": [
        "IMAGE_PATH = DIR_PATH / \"spoiled-fresh\" / \"FRUIT-16K\"\n",
        "sorted(entry.name for entry in os.scandir(IMAGE_PATH))"
      ],
      "metadata": {
        "colab": {
          "base_uri": "https://localhost:8080/"
        },
        "id": "94V9HPC-_T8t",
        "outputId": "b0733b35-d0c0-4985-f914-4528fa5e78cc"
      },
      "execution_count": null,
      "outputs": [
        {
          "output_type": "execute_result",
          "data": {
            "text/plain": [
              "['F_Banana',\n",
              " 'F_Lemon',\n",
              " 'F_Lulo',\n",
              " 'F_Mango',\n",
              " 'F_Orange',\n",
              " 'F_Strawberry',\n",
              " 'F_Tamarillo',\n",
              " 'F_Tomato',\n",
              " 'S_Banana',\n",
              " 'S_Lemon',\n",
              " 'S_Lulo',\n",
              " 'S_Mango',\n",
              " 'S_Orange',\n",
              " 'S_Strawberry',\n",
              " 'S_Tamarillo',\n",
              " 'S_Tomato']"
            ]
          },
          "metadata": {},
          "execution_count": 72
        }
      ]
    },
    {
      "cell_type": "code",
      "source": [
        "# create custom dataset\n",
        "def find_classes(directory: str) -> Tuple[list[str], Dict[str, int]]:\n",
        "    \"\"\"\n",
        "    Finds the class folder names in a target directory\n",
        "    \"\"\"\n",
        "    # 1. get the class names by scanning the target directory\n",
        "    classes = sorted(entry.name for entry in os.scandir(directory) if entry.is_dir())\n",
        "\n",
        "    # 2. raise an error is class names couldn't be found\n",
        "    if not classes:\n",
        "        raise FileNotFoundError(f\"couldn't find any classes in {directory}\")\n",
        "\n",
        "    # 3. create a dictionary of index labels\n",
        "    class_to_idx = {class_name: i for i, class_name in enumerate(classes)}\n",
        "    return classes, class_to_idx"
      ],
      "metadata": {
        "id": "DHV_7ulG_ght"
      },
      "execution_count": null,
      "outputs": []
    },
    {
      "cell_type": "code",
      "source": [
        "classes, class_to_idx = find_classes(directory=IMAGE_PATH)\n",
        "class_to_idx"
      ],
      "metadata": {
        "colab": {
          "base_uri": "https://localhost:8080/"
        },
        "id": "DXEddr9u_jqE",
        "outputId": "fcd3df95-ca1e-42e0-a577-35d510e644c3"
      },
      "execution_count": null,
      "outputs": [
        {
          "output_type": "execute_result",
          "data": {
            "text/plain": [
              "{'F_Banana': 0,\n",
              " 'F_Lemon': 1,\n",
              " 'F_Lulo': 2,\n",
              " 'F_Mango': 3,\n",
              " 'F_Orange': 4,\n",
              " 'F_Strawberry': 5,\n",
              " 'F_Tamarillo': 6,\n",
              " 'F_Tomato': 7,\n",
              " 'S_Banana': 8,\n",
              " 'S_Lemon': 9,\n",
              " 'S_Lulo': 10,\n",
              " 'S_Mango': 11,\n",
              " 'S_Orange': 12,\n",
              " 'S_Strawberry': 13,\n",
              " 'S_Tamarillo': 14,\n",
              " 'S_Tomato': 15}"
            ]
          },
          "metadata": {},
          "execution_count": 74
        }
      ]
    },
    {
      "cell_type": "code",
      "source": [
        "IMAGE_PATH / classes[4]"
      ],
      "metadata": {
        "colab": {
          "base_uri": "https://localhost:8080/"
        },
        "id": "4uTl4Ir3_lGY",
        "outputId": "d5133787-379d-4831-a2a8-fb5a4ef0cd5d"
      },
      "execution_count": null,
      "outputs": [
        {
          "output_type": "execute_result",
          "data": {
            "text/plain": [
              "PosixPath('/content/freshvision/data/spoiled-fresh/FRUIT-16K/F_Orange')"
            ]
          },
          "metadata": {},
          "execution_count": 75
        }
      ]
    },
    {
      "cell_type": "code",
      "source": [
        "len(list(Path(IMAGE_PATH / classes[4]).glob(\"*.jpg\")))"
      ],
      "metadata": {
        "colab": {
          "base_uri": "https://localhost:8080/"
        },
        "id": "NIg0Xe9r_nZM",
        "outputId": "7472c4c1-8eb9-4e4f-d073-f6b578a66c06"
      },
      "execution_count": null,
      "outputs": [
        {
          "output_type": "execute_result",
          "data": {
            "text/plain": [
              "1000"
            ]
          },
          "metadata": {},
          "execution_count": 76
        }
      ]
    },
    {
      "cell_type": "code",
      "source": [
        "a = [1, 2, 3]\n",
        "a.extend([4, 5, 6])\n",
        "a"
      ],
      "metadata": {
        "colab": {
          "base_uri": "https://localhost:8080/"
        },
        "id": "RbCXSlmH_q32",
        "outputId": "283a925f-6acd-4bc6-ce14-bbd5f35a090d"
      },
      "execution_count": null,
      "outputs": [
        {
          "output_type": "execute_result",
          "data": {
            "text/plain": [
              "[1, 2, 3, 4, 5, 6]"
            ]
          },
          "metadata": {},
          "execution_count": 77
        }
      ]
    },
    {
      "cell_type": "code",
      "source": [
        "class ImageFolderCustom(Dataset):\n",
        "    # 2. initialize the constructor\n",
        "    def __init__(self, targ_dir: str, heads: list[str], transform=None, is_training: bool = True):\n",
        "        # 3. create several attributes\n",
        "        # get all the image paths\n",
        "        self.training = []\n",
        "        self.testing = []\n",
        "        for tag in heads:\n",
        "            self.img_list = list(Path(targ_dir / tag).glob(\"*.jpg\"))\n",
        "            self.train_length = int(len(self.img_list) * 0.8)\n",
        "            self.training.extend(self.img_list[:self.train_length])\n",
        "            self.testing.extend(self.img_list[self.train_length:])\n",
        "\n",
        "        if is_training:\n",
        "            self.paths = self.training\n",
        "        else:\n",
        "            self.paths = self.testing\n",
        "        # setup transforms\n",
        "        self.transform = transform\n",
        "        # create classes and class_to_idx\n",
        "        self.classes, self.class_to_idx = find_classes(targ_dir)\n",
        "\n",
        "    # 4. create a function to load images\n",
        "    def load_image(self, index: int) -> Image.Image:\n",
        "        \"opens an image via a path and returns it\"\n",
        "        image_path = self.paths[index]\n",
        "        return Image.open(image_path)\n",
        "\n",
        "    # 5. overwrite __len__()\n",
        "    def __len__(self) -> int:\n",
        "        return len(self.paths)\n",
        "\n",
        "    # 6. overwrite __getitem__() to return a particular sample\n",
        "    def __getitem__(self, index: int) -> Tuple[torch.Tensor, int]:\n",
        "        \"returns one sample of data, data and the label (X, y)\"\n",
        "        img = self.load_image(index)\n",
        "        class_name = self.paths[index].parent.name # expects path in format: data_folder/class_name/image.jpg\n",
        "        class_idx = self.class_to_idx[class_name]\n",
        "\n",
        "        # transform if necessary\n",
        "        if self.transform:\n",
        "            return self.transform(img), class_idx\n",
        "        else:\n",
        "            return img, class_idx"
      ],
      "metadata": {
        "id": "TJ4qUtnm_s2B"
      },
      "execution_count": null,
      "outputs": []
    },
    {
      "cell_type": "code",
      "source": [
        "normalize = transforms.Normalize(\n",
        "        mean=[0.485, 0.456, 0.406],\n",
        "        std=[0.229, 0.224, 0.225])"
      ],
      "metadata": {
        "id": "QX6KvNaO_v8n"
      },
      "execution_count": null,
      "outputs": []
    },
    {
      "cell_type": "code",
      "source": [
        "train_transform = transforms.Compose([\n",
        "    transforms.Resize(size=(224, 224)),\n",
        "    transforms.RandomHorizontalFlip(p=0.5),\n",
        "    transforms.ToTensor(),\n",
        "    normalize\n",
        "])\n",
        "\n",
        "test_transform = transforms.Compose([\n",
        "    transforms.Resize(size=(224, 224)),\n",
        "    transforms.ToTensor(),\n",
        "    normalize\n",
        "])"
      ],
      "metadata": {
        "id": "AYDdwdAU_yKW"
      },
      "execution_count": null,
      "outputs": []
    },
    {
      "cell_type": "code",
      "source": [
        "# test out ImageFolderCustom()\n",
        "train_data_custom = ImageFolderCustom(targ_dir=IMAGE_PATH, heads=classes,\n",
        "                                        transform=train_transform, is_training=True)\n",
        "\n",
        "test_data_custom = ImageFolderCustom(targ_dir=IMAGE_PATH, heads=classes,\n",
        "                                        transform=test_transform, is_training=False)"
      ],
      "metadata": {
        "id": "wPehpjz0_0bF"
      },
      "execution_count": null,
      "outputs": []
    },
    {
      "cell_type": "code",
      "source": [
        "type(IMAGE_PATH)"
      ],
      "metadata": {
        "colab": {
          "base_uri": "https://localhost:8080/"
        },
        "id": "jffWINQp_2iW",
        "outputId": "330ad138-2efc-48b8-f28b-903211775915"
      },
      "execution_count": null,
      "outputs": [
        {
          "output_type": "execute_result",
          "data": {
            "text/plain": [
              "pathlib.PosixPath"
            ]
          },
          "metadata": {},
          "execution_count": 82
        }
      ]
    },
    {
      "cell_type": "code",
      "source": [
        "NUM_WORKERS = os.cpu_count()"
      ],
      "metadata": {
        "id": "YCyS8S4BCfI1"
      },
      "execution_count": null,
      "outputs": []
    },
    {
      "cell_type": "code",
      "source": [
        "def create_dataloaders(\n",
        "    image_dir: str,\n",
        "    heads: list[str],\n",
        "    train_transform: transforms.Compose,\n",
        "    test_transform: transforms.Compose,\n",
        "    batch_size: int,\n",
        "    num_workers: int=NUM_WORKERS\n",
        "):\n",
        "    \"\"\"\n",
        "    creates training and testing DataLoaders.\n",
        "\n",
        "    Takes in a training directory and testing directory path and turns them\n",
        "    into pytorch datasets and then into pytorch dataloaders.\n",
        "\n",
        "    Args:\n",
        "        train_dir: path to training directory.\n",
        "        test_dir: path to testing directory\n",
        "        transform: torchvision transforms to perform on training and testing data.\n",
        "        batch_size: number of samples per batch in each of the dataloaders.\n",
        "        num_workers: an integer for number of workers per dataloader.\n",
        "\n",
        "    returns:\n",
        "        A tuple of (train_dataloader, test_dataloader, class_names).\n",
        "        where class_names is a list of the target classes.\n",
        "\n",
        "        Example usage:\n",
        "            train_dataloader, test_dataloader, class_names = create_dataloaders(train_dir=path/to/train_dir,\n",
        "                                                                                test_dir=path/to/test_dir,\n",
        "                                                                                transform=some_transform,\n",
        "                                                                                batch_size=32,\n",
        "                                                                                num_workers=4)\n",
        "    \"\"\"\n",
        "\n",
        "    # use ImageFolder to create datasets\n",
        "    train_data = ImageFolderCustom(targ_dir=image_dir, heads=heads, transform=train_transform, is_training=True)\n",
        "\n",
        "    test_data = ImageFolderCustom(targ_dir=image_dir, heads=heads, transform=test_transform, is_training=False)\n",
        "\n",
        "    # get class names\n",
        "    class_names = train_data.classes\n",
        "\n",
        "    # turn images into dataloaders\n",
        "    train_dataloader = DataLoader(\n",
        "        train_data,\n",
        "        batch_size=batch_size,\n",
        "        shuffle=True,\n",
        "        num_workers=num_workers,\n",
        "        pin_memory=True\n",
        "    )\n",
        "    test_dataloader = DataLoader(\n",
        "        test_data,\n",
        "        batch_size=batch_size,\n",
        "        shuffle=False,\n",
        "        num_workers=num_workers,\n",
        "        pin_memory=True\n",
        "    )\n",
        "\n",
        "    return train_dataloader, test_dataloader, class_names"
      ],
      "metadata": {
        "id": "lyWBv0_NFMwM"
      },
      "execution_count": null,
      "outputs": []
    },
    {
      "cell_type": "code",
      "source": [
        "from torch.utils.data import DataLoader"
      ],
      "metadata": {
        "id": "ek8zNUBbJIe1"
      },
      "execution_count": null,
      "outputs": []
    },
    {
      "cell_type": "code",
      "source": [
        "BATCH_SIZE = 32\n",
        "\n",
        "train_dataloader, test_dataloader, class_names = create_dataloaders(image_dir=IMAGE_PATH, heads=classes, train_transform=train_transform, test_transform=test_transform, batch_size=BATCH_SIZE, num_workers=0)"
      ],
      "metadata": {
        "id": "g6wLUEmzJpCp"
      },
      "execution_count": null,
      "outputs": []
    },
    {
      "cell_type": "code",
      "source": [
        "len(train_dataloader), len(test_dataloader), class_names"
      ],
      "metadata": {
        "colab": {
          "base_uri": "https://localhost:8080/"
        },
        "id": "L0T2vdFuJvkq",
        "outputId": "8620a34b-770f-47ae-e94d-f55e70d42db0"
      },
      "execution_count": null,
      "outputs": [
        {
          "output_type": "execute_result",
          "data": {
            "text/plain": [
              "(400,\n",
              " 100,\n",
              " ['F_Banana',\n",
              "  'F_Lemon',\n",
              "  'F_Lulo',\n",
              "  'F_Mango',\n",
              "  'F_Orange',\n",
              "  'F_Strawberry',\n",
              "  'F_Tamarillo',\n",
              "  'F_Tomato',\n",
              "  'S_Banana',\n",
              "  'S_Lemon',\n",
              "  'S_Lulo',\n",
              "  'S_Mango',\n",
              "  'S_Orange',\n",
              "  'S_Strawberry',\n",
              "  'S_Tamarillo',\n",
              "  'S_Tomato'])"
            ]
          },
          "metadata": {},
          "execution_count": 87
        }
      ]
    },
    {
      "cell_type": "code",
      "source": [
        "device = \"cuda\" if torch.cuda.is_available() else \"cpu\"\n",
        "device"
      ],
      "metadata": {
        "colab": {
          "base_uri": "https://localhost:8080/",
          "height": 36
        },
        "id": "4_iWpyhCK5yR",
        "outputId": "f8710db5-39d7-48fc-e33d-bcf4e37efad3"
      },
      "execution_count": null,
      "outputs": [
        {
          "output_type": "execute_result",
          "data": {
            "text/plain": [
              "'cuda'"
            ],
            "application/vnd.google.colaboratory.intrinsic+json": {
              "type": "string"
            }
          },
          "metadata": {},
          "execution_count": 88
        }
      ]
    },
    {
      "cell_type": "code",
      "source": [
        "# setup hyperparameters\n",
        "models = [\"effnetb0\", \"effnetb2\"]\n",
        "num_epochs = [5]\n",
        "train_dataloaders = {\"freshvisionv0\": train_dataloader}"
      ],
      "metadata": {
        "id": "HUrlXNUcK7nY"
      },
      "execution_count": null,
      "outputs": []
    },
    {
      "cell_type": "code",
      "source": [
        "import model_builder as mb\n",
        "\n",
        "model_0 = mb.create_model_baseline_effnetb0(out_feats=len(class_names), device=device)\n",
        "model_1 = mb.create_model_baseline_effnetb2(out_feats=len(class_names), device=device)"
      ],
      "metadata": {
        "colab": {
          "base_uri": "https://localhost:8080/"
        },
        "id": "ncn217RHK-W-",
        "outputId": "381f67f8-2155-43e2-c146-0c2d5c4a462b"
      },
      "execution_count": null,
      "outputs": [
        {
          "output_type": "stream",
          "name": "stderr",
          "text": [
            "Downloading: \"https://download.pytorch.org/models/efficientnet_b0_rwightman-7f5810bc.pth\" to /root/.cache/torch/hub/checkpoints/efficientnet_b0_rwightman-7f5810bc.pth\n",
            "100%|██████████| 20.5M/20.5M [00:00<00:00, 148MB/s]\n",
            "Downloading: \"https://download.pytorch.org/models/efficientnet_b2_rwightman-c35c1473.pth\" to /root/.cache/torch/hub/checkpoints/efficientnet_b2_rwightman-c35c1473.pth\n"
          ]
        },
        {
          "output_type": "stream",
          "name": "stdout",
          "text": [
            "[INFO] created a model effnetb0\n"
          ]
        },
        {
          "output_type": "stream",
          "name": "stderr",
          "text": [
            "100%|██████████| 35.2M/35.2M [00:00<00:00, 179MB/s]"
          ]
        },
        {
          "output_type": "stream",
          "name": "stdout",
          "text": [
            "[INFO] created a model effnetb2\n"
          ]
        },
        {
          "output_type": "stream",
          "name": "stderr",
          "text": [
            "\n"
          ]
        }
      ]
    },
    {
      "cell_type": "code",
      "source": [
        "model_0.load_state_dict(torch.load(f=\"/content/freshvision/models/effnetb0_fruitsvegs0_5_epochs.pt\", weights_only=True))\n",
        "model_1.load_state_dict(torch.load(f=\"/content/freshvision/models/effnetb2_fruitsvegs0_5_epochs.pt\", weights_only=True))"
      ],
      "metadata": {
        "colab": {
          "base_uri": "https://localhost:8080/"
        },
        "id": "rSB67Gm5LAl7",
        "outputId": "45891b5a-d2ab-4483-fcd5-95b44d1e9c9b"
      },
      "execution_count": null,
      "outputs": [
        {
          "output_type": "execute_result",
          "data": {
            "text/plain": [
              "<All keys matched successfully>"
            ]
          },
          "metadata": {},
          "execution_count": 92
        }
      ]
    },
    {
      "cell_type": "code",
      "source": [
        "training_dir = []\n",
        "testing_dir = []\n",
        "for tag in classes:\n",
        "    img_list = list(Path(IMAGE_PATH / tag).glob(\"*.jpg\"))\n",
        "    train_length = int(len(img_list) * 0.8)\n",
        "    training_dir.extend(img_list[:train_length])\n",
        "    testing_dir.extend(img_list[train_length:])"
      ],
      "metadata": {
        "id": "VFhqo1EmLDS_"
      },
      "execution_count": null,
      "outputs": []
    },
    {
      "cell_type": "code",
      "source": [
        "from utils import pred_and_plot_image\n",
        "\n",
        "pred_and_plot_image(model=model_0, image_path=testing_dir[700], class_names=classes, transform=test_transform, device=device)\n",
        "print(testing_dir[700])"
      ],
      "metadata": {
        "colab": {
          "base_uri": "https://localhost:8080/",
          "height": 463
        },
        "id": "cM8RGzz5LE8u",
        "outputId": "5119987e-cb06-4f42-bfc0-ae21dbfd3614"
      },
      "execution_count": null,
      "outputs": [
        {
          "output_type": "stream",
          "name": "stderr",
          "text": [
            "WARNING:matplotlib.image:Clipping input data to the valid range for imshow with RGB data ([0..1] for floats or [0..255] for integers).\n"
          ]
        },
        {
          "output_type": "stream",
          "name": "stdout",
          "text": [
            "/content/freshvision/data/spoiled-fresh/FRUIT-16K/F_Mango/900.jpg\n"
          ]
        },
        {
          "output_type": "display_data",
          "data": {
            "text/plain": [
              "<Figure size 640x480 with 1 Axes>"
            ],
            "image/png": "[encoded data removed]"
          },
          "metadata": {}
        }
      ]
    },
    {
      "cell_type": "code",
      "source": [
        "import matplotlib.pyplot as plt # type: ignore\n",
        "from PIL import Image # type: ignore\n",
        "import requests # type: ignore\n",
        "\n",
        "def pred_and_plot(model: torch.nn.Module,\n",
        "                    image_path: str,\n",
        "                    transform: transforms.Compose,\n",
        "                    class_names: list[str] = None):\n",
        "        model = model.to(device)\n",
        "        # load image\n",
        "        img = Image.open(requests.get(image_path, stream=True).raw).convert(\"RGB\")\n",
        "        # setup transformed image\n",
        "        transformed_img = transform(img).to(device)\n",
        "        # forward pass\n",
        "        logits = model(transformed_img.unsqueeze(dim=0))\n",
        "        pred = torch.softmax(logits, dim=-1).argmax(dim=-1)\n",
        "        # plot the image along with the label\n",
        "        plt.imshow(transformed_img.permute(1, 2, 0).cpu())\n",
        "        title = f\"{class_names[pred]} | {torch.softmax(logits, dim=-1).max():.3f}\"\n",
        "        plt.title(title)"
      ],
      "metadata": {
        "id": "h89uF_f1LTWM"
      },
      "execution_count": null,
      "outputs": []
    },
    {
      "cell_type": "code",
      "source": [
        "pred_and_plot(model=model_0, image_path=\"https://www.istockphoto.com/photo/mango-fruits-ripen-and-rotten-on-a-white-background-gm1249479366-364154825\",\n",
        "                transform=test_transform, class_names=classes)"
      ],
      "metadata": {
        "colab": {
          "base_uri": "https://localhost:8080/",
          "height": 321
        },
        "id": "bstvotyKLbMV",
        "outputId": "8f368761-c101-4651-8433-18c0ad9d5fe4"
      },
      "execution_count": null,
      "outputs": [
        {
          "output_type": "error",
          "ename": "UnidentifiedImageError",
          "evalue": "cannot identify image file <_io.BytesIO object at 0x7d5ec0e87880>",
          "traceback": [
            "\u001b[0;31m---------------------------------------------------------------------------\u001b[0m",
            "\u001b[0;31mUnidentifiedImageError\u001b[0m                    Traceback (most recent call last)",
            "\u001b[0;32m<ipython-input-99-b13301eb7e47>\u001b[0m in \u001b[0;36m<cell line: 1>\u001b[0;34m()\u001b[0m\n\u001b[0;32m----> 1\u001b[0;31m pred_and_plot(model=model_0, image_path=\"https://www.istockphoto.com/photo/mango-fruits-ripen-and-rotten-on-a-white-background-gm1249479366-364154825\", \n\u001b[0m\u001b[1;32m      2\u001b[0m                 transform=test_transform, class_names=classes)\n",
            "\u001b[0;32m<ipython-input-95-e7305916ef49>\u001b[0m in \u001b[0;36mpred_and_plot\u001b[0;34m(model, image_path, transform, class_names)\u001b[0m\n\u001b[1;32m      9\u001b[0m         \u001b[0mmodel\u001b[0m \u001b[0;34m=\u001b[0m \u001b[0mmodel\u001b[0m\u001b[0;34m.\u001b[0m\u001b[0mto\u001b[0m\u001b[0;34m(\u001b[0m\u001b[0mdevice\u001b[0m\u001b[0;34m)\u001b[0m\u001b[0;34m\u001b[0m\u001b[0;34m\u001b[0m\u001b[0m\n\u001b[1;32m     10\u001b[0m         \u001b[0;31m# load image\u001b[0m\u001b[0;34m\u001b[0m\u001b[0;34m\u001b[0m\u001b[0m\n\u001b[0;32m---> 11\u001b[0;31m         \u001b[0mimg\u001b[0m \u001b[0;34m=\u001b[0m \u001b[0mImage\u001b[0m\u001b[0;34m.\u001b[0m\u001b[0mopen\u001b[0m\u001b[0;34m(\u001b[0m\u001b[0mrequests\u001b[0m\u001b[0;34m.\u001b[0m\u001b[0mget\u001b[0m\u001b[0;34m(\u001b[0m\u001b[0mimage_path\u001b[0m\u001b[0;34m,\u001b[0m \u001b[0mstream\u001b[0m\u001b[0;34m=\u001b[0m\u001b[0;32mTrue\u001b[0m\u001b[0;34m)\u001b[0m\u001b[0;34m.\u001b[0m\u001b[0mraw\u001b[0m\u001b[0;34m)\u001b[0m\u001b[0;34m.\u001b[0m\u001b[0mconvert\u001b[0m\u001b[0;34m(\u001b[0m\u001b[0;34m\"RGB\"\u001b[0m\u001b[0;34m)\u001b[0m\u001b[0;34m\u001b[0m\u001b[0;34m\u001b[0m\u001b[0m\n\u001b[0m\u001b[1;32m     12\u001b[0m         \u001b[0;31m# setup transformed image\u001b[0m\u001b[0;34m\u001b[0m\u001b[0;34m\u001b[0m\u001b[0m\n\u001b[1;32m     13\u001b[0m         \u001b[0mtransformed_img\u001b[0m \u001b[0;34m=\u001b[0m \u001b[0mtransform\u001b[0m\u001b[0;34m(\u001b[0m\u001b[0mimg\u001b[0m\u001b[0;34m)\u001b[0m\u001b[0;34m.\u001b[0m\u001b[0mto\u001b[0m\u001b[0;34m(\u001b[0m\u001b[0mdevice\u001b[0m\u001b[0;34m)\u001b[0m\u001b[0;34m\u001b[0m\u001b[0;34m\u001b[0m\u001b[0m\n",
            "\u001b[0;32m/usr/local/lib/python3.10/dist-packages/PIL/Image.py\u001b[0m in \u001b[0;36mopen\u001b[0;34m(fp, mode, formats)\u001b[0m\n\u001b[1;32m   3496\u001b[0m         \u001b[0mwarnings\u001b[0m\u001b[0;34m.\u001b[0m\u001b[0mwarn\u001b[0m\u001b[0;34m(\u001b[0m\u001b[0mmessage\u001b[0m\u001b[0;34m)\u001b[0m\u001b[0;34m\u001b[0m\u001b[0;34m\u001b[0m\u001b[0m\n\u001b[1;32m   3497\u001b[0m     \u001b[0mmsg\u001b[0m \u001b[0;34m=\u001b[0m \u001b[0;34m\"cannot identify image file %r\"\u001b[0m \u001b[0;34m%\u001b[0m \u001b[0;34m(\u001b[0m\u001b[0mfilename\u001b[0m \u001b[0;32mif\u001b[0m \u001b[0mfilename\u001b[0m \u001b[0;32melse\u001b[0m \u001b[0mfp\u001b[0m\u001b[0;34m)\u001b[0m\u001b[0;34m\u001b[0m\u001b[0;34m\u001b[0m\u001b[0m\n\u001b[0;32m-> 3498\u001b[0;31m     \u001b[0;32mraise\u001b[0m \u001b[0mUnidentifiedImageError\u001b[0m\u001b[0;34m(\u001b[0m\u001b[0mmsg\u001b[0m\u001b[0;34m)\u001b[0m\u001b[0;34m\u001b[0m\u001b[0;34m\u001b[0m\u001b[0m\n\u001b[0m\u001b[1;32m   3499\u001b[0m \u001b[0;34m\u001b[0m\u001b[0m\n\u001b[1;32m   3500\u001b[0m \u001b[0;34m\u001b[0m\u001b[0m\n",
            "\u001b[0;31mUnidentifiedImageError\u001b[0m: cannot identify image file <_io.BytesIO object at 0x7d5ec0e87880>"
          ]
        }
      ]
    },
    {
      "cell_type": "code",
      "source": [
        "manual_transform = transforms.Compose([\n",
        "    transforms.ToPILImage(),\n",
        "    transforms.Resize(size=(224, 224)),\n",
        "    transforms.ToTensor(),\n",
        "    normalize\n",
        "])"
      ],
      "metadata": {
        "id": "NlbaHoAXLd-V"
      },
      "execution_count": null,
      "outputs": []
    },
    {
      "cell_type": "code",
      "source": [],
      "metadata": {
        "id": "EkoY7g6BLhLL"
      },
      "execution_count": null,
      "outputs": []
    }
  ]
}